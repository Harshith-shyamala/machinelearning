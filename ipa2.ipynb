{
 "cells": [
  {
   "cell_type": "code",
   "execution_count": 3,
   "metadata": {},
   "outputs": [
    {
     "name": "stdout",
     "output_type": "stream",
     "text": [
      "* \n",
      "* * \n",
      "* * * \n",
      "* * * * \n",
      "* * * * * \n",
      "* * * * \n",
      "* * * \n",
      "* * \n",
      "* \n"
     ]
    }
   ],
   "source": [
    "#question 1\n",
    "\n",
    "# number of rows from the user\n",
    "rows = 5  \n",
    "\n",
    "# Create the upper half of diamond pattern\n",
    "for i in range(rows):    \n",
    "    # Print the stars for the current row\n",
    "    for j in range(i + 1):    \n",
    "        print(\"* \", end=\"\")    \n",
    "    print(\"\")    \n",
    "\n",
    "# Create the lower half of diamond pattern\n",
    "for i in range(rows - 1, 0, -1):    \n",
    "    # Print the stars for the current row\n",
    "    for j in range(i):    \n",
    "        print(\"* \", end=\"\")    \n",
    "    print(\"\")    \n"
   ]
  },
  {
   "cell_type": "code",
   "execution_count": 4,
   "metadata": {},
   "outputs": [
    {
     "name": "stdout",
     "output_type": "stream",
     "text": [
      "20\n",
      "40\n",
      "60\n",
      "80\n",
      "100\n"
     ]
    }
   ],
   "source": [
    "#question 2\n",
    "\n",
    "my_list = [10, 20, 30, 40, 50, 60, 70, 80, 90, 100]\n",
    "\n",
    "# Loop through the list using index\n",
    "for i in range(1, len(my_list), 2):  # Start at index 1 and step by 2\n",
    "    print(my_list[i])"
   ]
  },
  {
   "cell_type": "code",
   "execution_count": 5,
   "metadata": {},
   "outputs": [
    {
     "name": "stdout",
     "output_type": "stream",
     "text": [
      "[23, 'Python', 23.98]\n",
      "[<class 'int'>, <class 'str'>, <class 'float'>]\n"
     ]
    }
   ],
   "source": [
    "#question 3\n",
    "#given list 'x'\n",
    "x = [23, 'Python', 23.98]\n",
    "\n",
    "types_list = []\n",
    "\n",
    "# Loop through the given list and append the type of each element to types_list\n",
    "for element in x:\n",
    "    types_list.append(type(element))\n",
    "\n",
    "print(x)\n",
    "\n",
    "# Print the list of types\n",
    "print(types_list)"
   ]
  },
  {
   "cell_type": "code",
   "execution_count": 6,
   "metadata": {},
   "outputs": [
    {
     "name": "stdout",
     "output_type": "stream",
     "text": [
      "Sample List: [1, 2, 3, 3, 3, 3, 4, 5]\n",
      "Unique List: [1, 2, 3, 4, 5]\n"
     ]
    }
   ],
   "source": [
    "#question 4\n",
    "def unique_items(input_list):\n",
    "    # Use a set to remove duplicates and then convert it back to a list\n",
    "    unique_list = list(set(input_list))\n",
    "    return unique_list\n",
    "\n",
    "# Sample list\n",
    "sample_list = [1, 2, 3, 3, 3, 3, 4, 5]\n",
    "\n",
    "# Get the unique list\n",
    "unique_list = unique_items(sample_list)\n",
    "\n",
    "# Print the unique list\n",
    "print(\"Sample List:\", sample_list)\n",
    "print(\"Unique List:\", unique_list)\n"
   ]
  },
  {
   "cell_type": "code",
   "execution_count": 7,
   "metadata": {},
   "outputs": [
    {
     "name": "stdout",
     "output_type": "stream",
     "text": [
      "No. of Upper-case characters: 3\n",
      "No. of Lower-case Characters: 12\n"
     ]
    }
   ],
   "source": [
    "#question 5\n",
    "\n",
    "#function that accepts a string and returns number of upper and lower case alphabets\n",
    "def count_upper_and_lower(input_string):\n",
    "    \n",
    "    upper_case_count = 0\n",
    "    lower_case_count = 0\n",
    "\n",
    "    # Iterate through each character in the input string\n",
    "    for char in input_string:\n",
    "        if char.isupper():\n",
    "            upper_case_count += 1\n",
    "        elif char.islower():\n",
    "            lower_case_count += 1\n",
    "\n",
    "    return upper_case_count, lower_case_count\n",
    "\n",
    "# Input string\n",
    "input_string = 'The quick Brow Fox'\n",
    "\n",
    "# Get the counts of upper and lower case letters\n",
    "upper_case_count, lower_case_count = count_upper_and_lower(input_string)\n",
    "\n",
    "# Print the results\n",
    "print(\"No. of Upper-case characters:\", upper_case_count)\n",
    "print(\"No. of Lower-case Characters:\", lower_case_count)\n"
   ]
  }
 ],
 "metadata": {
  "kernelspec": {
   "display_name": "base",
   "language": "python",
   "name": "python3"
  },
  "language_info": {
   "codemirror_mode": {
    "name": "ipython",
    "version": 3
   },
   "file_extension": ".py",
   "mimetype": "text/x-python",
   "name": "python",
   "nbconvert_exporter": "python",
   "pygments_lexer": "ipython3",
   "version": "3.11.5"
  }
 },
 "nbformat": 4,
 "nbformat_minor": 2
}
